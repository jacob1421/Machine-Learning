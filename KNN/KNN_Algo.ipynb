{
 "cells": [
  {
   "cell_type": "code",
   "execution_count": 1,
   "metadata": {},
   "outputs": [],
   "source": [
    "import numpy as np\n",
    "import pandas as pd\n",
    "import matplotlib.pyplot as plt\n",
    "import scipy as sp"
   ]
  },
  {
   "cell_type": "code",
   "execution_count": 2,
   "metadata": {},
   "outputs": [
    {
     "data": {
      "text/html": [
       "<div>\n",
       "<style scoped>\n",
       "    .dataframe tbody tr th:only-of-type {\n",
       "        vertical-align: middle;\n",
       "    }\n",
       "\n",
       "    .dataframe tbody tr th {\n",
       "        vertical-align: top;\n",
       "    }\n",
       "\n",
       "    .dataframe thead th {\n",
       "        text-align: right;\n",
       "    }\n",
       "</style>\n",
       "<table border=\"1\" class=\"dataframe\">\n",
       "  <thead>\n",
       "    <tr style=\"text-align: right;\">\n",
       "      <th></th>\n",
       "      <th>Id</th>\n",
       "      <th>SepalLengthCm</th>\n",
       "      <th>SepalWidthCm</th>\n",
       "      <th>PetalLengthCm</th>\n",
       "      <th>PetalWidthCm</th>\n",
       "      <th>Species</th>\n",
       "    </tr>\n",
       "  </thead>\n",
       "  <tbody>\n",
       "    <tr>\n",
       "      <th>0</th>\n",
       "      <td>1</td>\n",
       "      <td>5.1</td>\n",
       "      <td>3.5</td>\n",
       "      <td>1.4</td>\n",
       "      <td>0.2</td>\n",
       "      <td>Iris-setosa</td>\n",
       "    </tr>\n",
       "    <tr>\n",
       "      <th>1</th>\n",
       "      <td>2</td>\n",
       "      <td>4.9</td>\n",
       "      <td>3.0</td>\n",
       "      <td>1.4</td>\n",
       "      <td>0.2</td>\n",
       "      <td>Iris-setosa</td>\n",
       "    </tr>\n",
       "    <tr>\n",
       "      <th>2</th>\n",
       "      <td>3</td>\n",
       "      <td>4.7</td>\n",
       "      <td>3.2</td>\n",
       "      <td>1.3</td>\n",
       "      <td>0.2</td>\n",
       "      <td>Iris-setosa</td>\n",
       "    </tr>\n",
       "    <tr>\n",
       "      <th>3</th>\n",
       "      <td>4</td>\n",
       "      <td>4.6</td>\n",
       "      <td>3.1</td>\n",
       "      <td>1.5</td>\n",
       "      <td>0.2</td>\n",
       "      <td>Iris-setosa</td>\n",
       "    </tr>\n",
       "    <tr>\n",
       "      <th>4</th>\n",
       "      <td>5</td>\n",
       "      <td>5.0</td>\n",
       "      <td>3.6</td>\n",
       "      <td>1.4</td>\n",
       "      <td>0.2</td>\n",
       "      <td>Iris-setosa</td>\n",
       "    </tr>\n",
       "  </tbody>\n",
       "</table>\n",
       "</div>"
      ],
      "text/plain": [
       "   Id  SepalLengthCm  SepalWidthCm  PetalLengthCm  PetalWidthCm      Species\n",
       "0   1            5.1           3.5            1.4           0.2  Iris-setosa\n",
       "1   2            4.9           3.0            1.4           0.2  Iris-setosa\n",
       "2   3            4.7           3.2            1.3           0.2  Iris-setosa\n",
       "3   4            4.6           3.1            1.5           0.2  Iris-setosa\n",
       "4   5            5.0           3.6            1.4           0.2  Iris-setosa"
      ]
     },
     "execution_count": 2,
     "metadata": {},
     "output_type": "execute_result"
    }
   ],
   "source": [
    "#Load dataset\n",
    "dataset = pd.read_csv('Iris.csv')\n",
    "\n",
    "#Show five records from our loaded dataset\n",
    "dataset.head(5)"
   ]
  },
  {
   "cell_type": "code",
   "execution_count": 3,
   "metadata": {},
   "outputs": [],
   "source": [
    "#Describe the data!\n",
    "#Id - discrete\n",
    "#SepalLength to PetalWidthCm - continuous\n",
    "#Species - nominal "
   ]
  },
  {
   "cell_type": "code",
   "execution_count": 4,
   "metadata": {},
   "outputs": [],
   "source": [
    "#Gets Index 1 to 5 Columns, 4 Columns should be in X. Training Variables\n",
    "X = dataset.iloc[:, 1:5]\n",
    "\n",
    "#Gets everything after the 5th column, Target Variables\n",
    "y = dataset.iloc[:, 5]"
   ]
  },
  {
   "cell_type": "code",
   "execution_count": 5,
   "metadata": {},
   "outputs": [],
   "source": [
    "#Import for LabeLEncoder\n",
    "from sklearn.preprocessing import LabelEncoder\n",
    "\n",
    "#Transform the string categorical data to integers\n",
    "\n",
    "#Initialize the LabelEncoder object\n",
    "le = LabelEncoder()\n",
    "\n",
    "#Fit the categorical string data to unique integers per class(species)\n",
    "le.fit(y)\n",
    "\n",
    "#Now that we have the categorical data fit we can transform the y to the integers we assigned for each class(species)\n",
    "y = le.transform(y)\n",
    "\n",
    "#You can do this in one line as well by doing\n",
    "#y = le.fit_transform(y)"
   ]
  },
  {
   "cell_type": "code",
   "execution_count": 6,
   "metadata": {},
   "outputs": [],
   "source": [
    "#Now our data is prepared for the training/test set split - test sets are usually 30% or 20%\n",
    "from sklearn.model_selection import train_test_split\n",
    "\n",
    "X_Train, X_Test, y_Train, y_Test = train_test_split(X, y, test_size=0.3, random_state=42)\n",
    "\n",
    "#Now we are ready to implement the machine learning algo"
   ]
  },
  {
   "cell_type": "code",
   "execution_count": 7,
   "metadata": {},
   "outputs": [],
   "source": [
    "#Distance Metric Function - Euclidean Distance also known as L2 distance\n",
    "def euclidean_distance(training_set, test_instance):\n",
    "    #Number of samples in our training set\n",
    "    n_samples = training_set.shape[0]\n",
    "    \n",
    "    #Array to hold our distances\n",
    "    distances = np.zeros(n_samples, dtype=np.float64)\n",
    "    \n",
    "    #euclidean distance calculation\n",
    "    for i in range(n_samples):\n",
    "        distances[i] = np.sqrt(np.sum(np.square(test_instance - training_set[i])))\n",
    "    \n",
    "    return distances"
   ]
  },
  {
   "cell_type": "code",
   "execution_count": 8,
   "metadata": {},
   "outputs": [],
   "source": [
    "#Algo Class\n",
    "class MyKNeighborsClassifier():\n",
    "    #Class constructor\n",
    "    def __init__(self, neighbors=5):\n",
    "        self.n_neighbors=neighbors\n",
    "        \n",
    "    #Preparing the data\n",
    "    def fit(self, X, y):\n",
    "        n_samples = X.shape[0]\n",
    "        \n",
    "        #Validations\n",
    "        if(self.n_neighbors > n_samples):\n",
    "            raise ValueError(\"Number of neighbors can't exceed the number of samples in the training set!\")\n",
    "        if(n_samples != y.shape[0]):\n",
    "            raise ValueError(\"Number of samples in X and y have to be equal!\")\n",
    "            \n",
    "        #Hold all the possible classes \n",
    "        self.classes_ = np.unique(y)\n",
    "        \n",
    "        self.X = np.array(X)\n",
    "        self.y = np.array(y)\n",
    "        \n",
    "    def pred_from_neighbors(self, training_set, labels, test_instance, k):\n",
    "        distances = euclidean_distance(training_set, test_instance)\n",
    "        \n",
    "        #Concates the distances to lables 1 to 1\n",
    "        #Example - \n",
    "        # 1.6 Iris-setosa\n",
    "        # 5.2 Iris-versicolor\n",
    "        # 8.2 Iris-virginica\n",
    "        # But for each X\n",
    "        distances = sp.c_[distances, labels]\n",
    "        \n",
    "        #Sort the distances by distances, smallest to largest(Makes selecting easier)\n",
    "        sorted_distances = distances[distances[:,0].argsort()]\n",
    "        \n",
    "        #Select k number of distances from the top of our sorted distances\n",
    "        targets = sorted_distances[0:k,1]\n",
    "        \n",
    "        #Get the classes and counts for the classes\n",
    "        unique, counts = np.unique(targets , return_counts=True)\n",
    "        \n",
    "        #Get the class that had the most neighbors\n",
    "        #np.argmax will get the class integer assigned by the LabelEncoder with the most counts(neighbors), \n",
    "        return(unique[np.argmax(counts)])\n",
    "    \n",
    "    def predict(self, X_Test):\n",
    "        #Make X_Test a numpy array\n",
    "        X_Test = np.array(X_Test)\n",
    "        \n",
    "        #Number of predictions(rows in our array) we are making and the number of features(columns in our array)\n",
    "        n_predictions, n_features = X_Test.shape\n",
    "        \n",
    "        #array to hold the predictions for each row\n",
    "        predictions = np.zeros(n_predictions, dtype=int)\n",
    "        \n",
    "        #Loop to get a prediction for each row\n",
    "        for i in range(n_predictions):\n",
    "            #calculate a single prediction\n",
    "            predictions[i] = self.pred_from_neighbors(self.X, self.y, X_Test[i, :], self.n_neighbors)\n",
    "        \n",
    "        return(predictions)\n",
    "        "
   ]
  },
  {
   "cell_type": "code",
   "execution_count": 9,
   "metadata": {},
   "outputs": [],
   "source": [
    "#Instantiate the learning model with k = 4\n",
    "classifier = MyKNeighborsClassifier(neighbors=4)\n",
    "#Fit the data \n",
    "classifier.fit(X_Train, y_Train)\n",
    "#Making Predictions!\n",
    "preds = classifier.predict(X_Test)"
   ]
  },
  {
   "cell_type": "code",
   "execution_count": 10,
   "metadata": {},
   "outputs": [
    {
     "name": "stdout",
     "output_type": "stream",
     "text": [
      "Model Accuracy: 100.0%\n"
     ]
    }
   ],
   "source": [
    "from sklearn.metrics import confusion_matrix, accuracy_score\n",
    "accuracy = accuracy_score(y_Test, preds) * 100\n",
    "print(\"Model Accuracy: {0}%\".format(round(accuracy, 2)))"
   ]
  },
  {
   "cell_type": "code",
   "execution_count": 11,
   "metadata": {},
   "outputs": [],
   "source": [
    "\n",
    "def plot_confusion_matrix(y_true, y_pred, classes,\n",
    "                          normalize=False,\n",
    "                          title=None,\n",
    "                          cmap=plt.cm.Blues):\n",
    "    \"\"\"\n",
    "    This function prints and plots the confusion matrix.\n",
    "    Normalization can be applied by setting `normalize=True`.\n",
    "    \"\"\"\n",
    "    if not title:\n",
    "        if normalize:\n",
    "            title = 'Normalized confusion matrix'\n",
    "        else:\n",
    "            title = 'Confusion matrix, without normalization'\n",
    "\n",
    "    # Compute confusion matrix\n",
    "    cm = confusion_matrix(y_true, y_pred)\n",
    "\n",
    "    if normalize:\n",
    "        cm = cm.astype('float') / cm.sum(axis=1)[:, np.newaxis]\n",
    "        print(\"Normalized confusion matrix\")\n",
    "    else:\n",
    "        print('Confusion matrix, without normalization')\n",
    "\n",
    "    print(cm)\n",
    "\n",
    "    fig, ax = plt.subplots()\n",
    "    im = ax.imshow(cm, interpolation='nearest', cmap=cmap)\n",
    "    ax.figure.colorbar(im, ax=ax)\n",
    "    # We want to show all ticks...\n",
    "    ax.set(xticks=np.arange(cm.shape[1]),\n",
    "           yticks=np.arange(cm.shape[0]),\n",
    "           # ... and label them with the respective list entries\n",
    "           xticklabels=classes, yticklabels=classes,\n",
    "           title=title,\n",
    "           ylabel='True label',\n",
    "           xlabel='Predicted label')\n",
    "\n",
    "    # Rotate the tick labels and set their alignment.\n",
    "    plt.setp(ax.get_xticklabels(), rotation=45, ha=\"right\",\n",
    "             rotation_mode=\"anchor\")\n",
    "\n",
    "    # Loop over data dimensions and create text annotations.\n",
    "    fmt = '.2f' if normalize else 'd'\n",
    "    thresh = cm.max() / 2.\n",
    "    for i in range(cm.shape[0]):\n",
    "        for j in range(cm.shape[1]):\n",
    "            ax.text(j, i, format(cm[i, j], fmt),\n",
    "                    ha=\"center\", va=\"center\",\n",
    "                    color=\"white\" if cm[i, j] > thresh else \"black\")\n",
    "    fig.tight_layout()\n",
    "    return ax\n"
   ]
  },
  {
   "cell_type": "code",
   "execution_count": 12,
   "metadata": {},
   "outputs": [
    {
     "name": "stdout",
     "output_type": "stream",
     "text": [
      "Confusion matrix, without normalization\n",
      "[[19  0  0]\n",
      " [ 0 13  0]\n",
      " [ 0  0 13]]\n",
      "Normalized confusion matrix\n",
      "[[1. 0. 0.]\n",
      " [0. 1. 0.]\n",
      " [0. 0. 1.]]\n"
     ]
    },
    {
     "data": {
      "image/png": "[encoded data removed]",
      "text/plain": [
       "<Figure size 432x288 with 2 Axes>"
      ]
     },
     "metadata": {
      "needs_background": "light"
     },
     "output_type": "display_data"
    },
    {
     "data": {
      "image/png": "[encoded data removed]",
      "text/plain": [
       "<Figure size 432x288 with 2 Axes>"
      ]
     },
     "metadata": {
      "needs_background": "light"
     },
     "output_type": "display_data"
    }
   ],
   "source": [
    "np.set_printoptions(precision=2)\n",
    "\n",
    "# Plot non-normalized confusion matrix\n",
    "plot_confusion_matrix(y_Test, preds, classes=le.classes_,\n",
    "                      title='Confusion matrix, without normalization')\n",
    "\n",
    "# Plot normalized confusion matrix\n",
    "plot_confusion_matrix(y_Test, preds, classes=le.classes_, normalize=True,\n",
    "                      title='Normalized confusion matrix')\n",
    "\n",
    "plt.show()"
   ]
  }
 ],
 "metadata": {
  "kernelspec": {
   "display_name": "Python 3",
   "language": "python",
   "name": "python3"
  },
  "language_info": {
   "codemirror_mode": {
    "name": "ipython",
    "version": 3
   },
   "file_extension": ".py",
   "mimetype": "text/x-python",
   "name": "python",
   "nbconvert_exporter": "python",
   "pygments_lexer": "ipython3",
   "version": "3.7.1"
  }
 },
 "nbformat": 4,
 "nbformat_minor": 2
}
